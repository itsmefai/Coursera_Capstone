{
 "cells": [
  {
   "cell_type": "markdown",
   "metadata": {},
   "source": [
    "## Exploring Rental Rates in Canada - Hands-on Project making use of Foursquare API with Python"
   ]
  },
  {
   "cell_type": "markdown",
   "metadata": {},
   "source": [
    "### 2. Data Needed"
   ]
  },
  {
   "cell_type": "markdown",
   "metadata": {},
   "source": [
    "1. **Housings/Rental Pricing Data**\n",
    "\n",
    "I will be utilizing \"Beautiful Soup\" to web scrape the data from Zumper, a rental listing website, to retrieve the housing/rental information - such as price, type of room, zip code, and location data.\n",
    "\n",
    "2. ***Location Data***\n",
    "\n",
    "The coordinate data of each university and rental places are supplied to Foursquare API and a limited number of venues in a given radius are pulled from the database.\n",
    "\n",
    "The location data will be used to visualise the universities as well as the rental places on the Folium map. \n",
    "\n",
    "Examples of such data points are:\n",
    "\n",
    "    - Universities in Canada - Longitude and Latitude coordinates\n",
    "    - Popular Housing/Rental (based on user rating) - within the vicinity of the chosen university\n",
    "    - Accommodations near the selected housing - cafes, restaurants, pubs, etc"
   ]
  },
  {
   "cell_type": "markdown",
   "metadata": {},
   "source": []
  }
 ],
 "metadata": {
  "kernelspec": {
   "display_name": "Python 3",
   "language": "python",
   "name": "python3"
  },
  "language_info": {
   "codemirror_mode": {
    "name": "ipython",
    "version": 3
   },
   "file_extension": ".py",
   "mimetype": "text/x-python",
   "name": "python",
   "nbconvert_exporter": "python",
   "pygments_lexer": "ipython3",
   "version": "3.7.4"
  }
 },
 "nbformat": 4,
 "nbformat_minor": 4
}
