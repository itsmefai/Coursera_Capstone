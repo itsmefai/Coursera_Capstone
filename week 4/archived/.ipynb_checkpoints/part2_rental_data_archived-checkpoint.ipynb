{
 "cells": [
  {
   "cell_type": "code",
   "execution_count": 30,
   "metadata": {},
   "outputs": [],
   "source": [
    "import pandas as pd\n",
    "import numpy as np\n",
    "import seaborn as sns\n",
    "\n",
    "from selenium import webdriver\n",
    "from selenium.webdriver.common.by import By\n",
    "from selenium.webdriver.support.ui import WebDriverWait\n",
    "from selenium.webdriver.support import expected_conditions as EC\n",
    "from selenium.common.exceptions import TimeoutException\n",
    "import time\n",
    "\n",
    "import requests\n",
    "import bs4 as bs"
   ]
  },
  {
   "cell_type": "markdown",
   "metadata": {},
   "source": [
    "Since there are too many rentals in toronto as a whole, let's zoom in to rentals near the universities and pull the data from there. \n",
    "\n",
    "I will use Selenium to automate the button clicks required for rendering hidden listings which is fully available only on clicking ***“Load more” button***. So, I will automate the clicking of all “Load more” buttons with Selenium."
   ]
  },
  {
   "cell_type": "code",
   "execution_count": 3,
   "metadata": {},
   "outputs": [
    {
     "name": "stderr",
     "output_type": "stream",
     "text": [
      "/opt/anaconda3/lib/python3.7/site-packages/ipykernel_launcher.py:14: DeprecationWarning: use options instead of chrome_options\n",
      "  \n"
     ]
    },
    {
     "name": "stdout",
     "output_type": "stream",
     "text": [
      "MORE button clicked: 1\n",
      "MORE button clicked: 2\n",
      "MORE button clicked: 3\n",
      "MORE button clicked: 4\n",
      "MORE button clicked: 5\n",
      "MORE button clicked: 6\n",
      "MORE button clicked: 7\n",
      "MORE button clicked: 8\n",
      "MORE button clicked: 9\n",
      "MORE button clicked: 10\n",
      "MORE button clicked: 11\n"
     ]
    }
   ],
   "source": [
    "# specifying the URL to web scrape from\n",
    "url = 'https://www.zumper.com/apartments-for-rent/toronto-on?property-categories=apartment,house,room&sort=price&box=-79.48613397258865,43.624433959938585,-79.34798397914204,43.72575470238067'\n",
    "\n",
    "\n",
    "# lat = []\n",
    "# long = []\n",
    "# url = f'https://www.zumper.com/apartments-for-rent/toronto-on?property-categories=apartment,house,room&sort=price&box={long},{lat}'\n",
    "\n",
    "options = webdriver.ChromeOptions()\n",
    "options = webdriver.ChromeOptions() \n",
    "options.add_argument(\"start-maximized\")\n",
    "options.add_argument('disable-infobars')\n",
    "driver=webdriver.Chrome(options=options, executable_path=r'/Users/apple/Downloads/chromedriver')\n",
    "driver.get(url)\n",
    "\n",
    "WebDriverWait(driver, 20).until(EC.visibility_of_element_located((By.XPATH, \"/html/body/div[1]/div/div/div[2]/div[1]/div/div[1]/div/div/div[1]/div[5]/button\")))\n",
    "count = 0\n",
    "while True:\n",
    "    try:\n",
    "        time.sleep(1) \n",
    "        WebDriverWait(driver, 20).until(EC.element_to_be_clickable((By.XPATH, \"/html/body/div[1]/div/div/div[2]/div[1]/div/div[1]/div/div/div[1]/div[5]/button\"))).click()\n",
    "        count += 1\n",
    "        print(f\"MORE button clicked: {count}\" )\n",
    "    except TimeoutException:\n",
    "        break"
   ]
  },
  {
   "cell_type": "code",
   "execution_count": 23,
   "metadata": {},
   "outputs": [],
   "source": [
    "\n",
    "# more details about incorporating bs and selenium here: https://bit.ly/2DXsSGW\n",
    "page_source = driver.page_source\n",
    "\n",
    "soup = bs.BeautifulSoup(page_source, 'html.parser')\n",
    "result = soup.findAll('div', class_ = 'ListItemDesktopView_content__2zZTH')\n",
    "\n",
    "rental = {}\n",
    "\n",
    "for i in result:\n",
    "    # Each job_elem is a new BeautifulSoup object.\n",
    "    # You can use the same methods on it as you did before.\n",
    "    \n",
    "    price = i.find('div', class_='ListItemDesktopView_price__3TSLy')\n",
    "    apartment_type = i.find('div', class_='ListItemDesktopView_bedBathText__2pdpd')\n",
    "    address = i.find('div', class_='ListItemDesktopView_address__QRRqh')\n",
    "    \n",
    "    if 'Address' in rental.keys():\n",
    "        rental['Address'].append(address.text)\n",
    "        \n",
    "    else:\n",
    "        rental['Address'] = []\n",
    "        rental['Address'].append(address.text)\n",
    "        \n",
    "    if 'Type' in rental.keys():\n",
    "        rental['Type'].append(apartment_type.text)\n",
    "        \n",
    "    else:\n",
    "        rental['Type'] = []\n",
    "        rental['Type'].append(apartment_type.text)\n",
    "        \n",
    "    if 'Price' in rental.keys():\n",
    "        rental['Price'].append(price.text)\n",
    "        \n",
    "    else:\n",
    "        rental['Price'] = []\n",
    "        rental['Price'].append(price.text)"
   ]
  },
  {
   "cell_type": "code",
   "execution_count": 24,
   "metadata": {},
   "outputs": [],
   "source": [
    "rental_df = pd.DataFrame(rental)"
   ]
  },
  {
   "cell_type": "code",
   "execution_count": 27,
   "metadata": {},
   "outputs": [
    {
     "data": {
      "text/html": [
       "<div>\n",
       "<style scoped>\n",
       "    .dataframe tbody tr th:only-of-type {\n",
       "        vertical-align: middle;\n",
       "    }\n",
       "\n",
       "    .dataframe tbody tr th {\n",
       "        vertical-align: top;\n",
       "    }\n",
       "\n",
       "    .dataframe thead th {\n",
       "        text-align: right;\n",
       "    }\n",
       "</style>\n",
       "<table border=\"1\" class=\"dataframe\">\n",
       "  <thead>\n",
       "    <tr style=\"text-align: right;\">\n",
       "      <th></th>\n",
       "      <th>Address</th>\n",
       "      <th>Type</th>\n",
       "      <th>Price</th>\n",
       "    </tr>\n",
       "  </thead>\n",
       "  <tbody>\n",
       "    <tr>\n",
       "      <td>0</td>\n",
       "      <td>Entertainment District · Toronto</td>\n",
       "      <td>Studio - 2 Beds</td>\n",
       "      <td>$219+</td>\n",
       "    </tr>\n",
       "    <tr>\n",
       "      <td>1</td>\n",
       "      <td>Briar Hill - Belgravia · Toronto</td>\n",
       "      <td>1 Bed</td>\n",
       "      <td>$550</td>\n",
       "    </tr>\n",
       "    <tr>\n",
       "      <td>2</td>\n",
       "      <td>The Village · Toronto</td>\n",
       "      <td>10 Beds</td>\n",
       "      <td>$625</td>\n",
       "    </tr>\n",
       "    <tr>\n",
       "      <td>3</td>\n",
       "      <td>Regal Heights · Toronto</td>\n",
       "      <td>Studio</td>\n",
       "      <td>$650</td>\n",
       "    </tr>\n",
       "    <tr>\n",
       "      <td>4</td>\n",
       "      <td>Garden District · Toronto</td>\n",
       "      <td>Studio</td>\n",
       "      <td>$675</td>\n",
       "    </tr>\n",
       "  </tbody>\n",
       "</table>\n",
       "</div>"
      ],
      "text/plain": [
       "                            Address             Type  Price\n",
       "0  Entertainment District · Toronto  Studio - 2 Beds  $219+\n",
       "1  Briar Hill - Belgravia · Toronto            1 Bed   $550\n",
       "2             The Village · Toronto          10 Beds   $625\n",
       "3           Regal Heights · Toronto           Studio   $650\n",
       "4         Garden District · Toronto           Studio   $675"
      ]
     },
     "execution_count": 27,
     "metadata": {},
     "output_type": "execute_result"
    }
   ],
   "source": [
    "rental_df.head()"
   ]
  },
  {
   "cell_type": "markdown",
   "metadata": {},
   "source": [
    "Great! Now let's save what we have gotten into excel"
   ]
  },
  {
   "cell_type": "code",
   "execution_count": 29,
   "metadata": {},
   "outputs": [],
   "source": [
    "rental_df.to_excel('raw_rental_data.xlsx')"
   ]
  }
 ],
 "metadata": {
  "kernelspec": {
   "display_name": "Python 3",
   "language": "python",
   "name": "python3"
  },
  "language_info": {
   "codemirror_mode": {
    "name": "ipython",
    "version": 3
   },
   "file_extension": ".py",
   "mimetype": "text/x-python",
   "name": "python",
   "nbconvert_exporter": "python",
   "pygments_lexer": "ipython3",
   "version": "3.7.4"
  }
 },
 "nbformat": 4,
 "nbformat_minor": 4
}
