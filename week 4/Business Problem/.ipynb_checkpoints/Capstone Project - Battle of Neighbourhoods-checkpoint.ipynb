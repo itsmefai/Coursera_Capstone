{
 "cells": [
  {
   "cell_type": "markdown",
   "metadata": {},
   "source": [
    "## Exploring Rental Rates in Canada - Hands-on Project making use of Foursquare API with Python"
   ]
  },
  {
   "cell_type": "markdown",
   "metadata": {},
   "source": [
    "### 1. Introduction: Where to stay in Canada?"
   ]
  },
  {
   "cell_type": "markdown",
   "metadata": {},
   "source": [
    "Studying at a university is a significant milestone. It is the so-called \"right of passage\" for anyone who seeks academic excellence. It is well known that attending an international university is costly and requires careful planning. Unfortunately, still, many students get themselves in huge debt that ultimately takes them years to pay off. Thus, saving every dollar, when they can, wherever they can, will prove to be beneficial in the long run.\n",
    "\n",
    "Students often face the dilemma between affordability and accessibility - to either spend thousands on a room that is very close to their university or a cheaper place but is a distance away. The expected return (cost/km) has to be within one's level of acceptance.  \n",
    "\n",
    "Student residences/dormitories offered by Universities are by far the best options, as they are conveniently located on or near their campus but are also one of or if not, the most expensive options available. (Costing on average of SG$14,000 per school year!)\n",
    "\n",
    "To put it into perspective, figure below is the visualization showing the average prices of residence/dormitory for universities in Canada. \n",
    "Figure 1:"
   ]
  },
  {
   "cell_type": "code",
   "execution_count": 8,
   "metadata": {},
   "outputs": [
    {
     "data": {
      "text/html": [
       "<div>\n",
       "<style scoped>\n",
       "    .dataframe tbody tr th:only-of-type {\n",
       "        vertical-align: middle;\n",
       "    }\n",
       "\n",
       "    .dataframe tbody tr th {\n",
       "        vertical-align: top;\n",
       "    }\n",
       "\n",
       "    .dataframe thead th {\n",
       "        text-align: right;\n",
       "    }\n",
       "</style>\n",
       "<table border=\"1\" class=\"dataframe\">\n",
       "  <thead>\n",
       "    <tr style=\"text-align: right;\">\n",
       "      <th></th>\n",
       "      <th>University</th>\n",
       "      <th>Room &amp; Board</th>\n",
       "    </tr>\n",
       "  </thead>\n",
       "  <tbody>\n",
       "    <tr>\n",
       "      <td>0</td>\n",
       "      <td>University of Toronto</td>\n",
       "      <td>S$20,165</td>\n",
       "    </tr>\n",
       "    <tr>\n",
       "      <td>1</td>\n",
       "      <td>University of British Columbia</td>\n",
       "      <td>S$12,360</td>\n",
       "    </tr>\n",
       "    <tr>\n",
       "      <td>2</td>\n",
       "      <td>McGill University</td>\n",
       "      <td>S$19,083</td>\n",
       "    </tr>\n",
       "    <tr>\n",
       "      <td>3</td>\n",
       "      <td>McMaster University</td>\n",
       "      <td>S$14,374</td>\n",
       "    </tr>\n",
       "    <tr>\n",
       "      <td>4</td>\n",
       "      <td>University of Alberta</td>\n",
       "      <td>S$8,425</td>\n",
       "    </tr>\n",
       "    <tr>\n",
       "      <td>5</td>\n",
       "      <td>University of Calgary</td>\n",
       "      <td>S$11,479</td>\n",
       "    </tr>\n",
       "    <tr>\n",
       "      <td>6</td>\n",
       "      <td>University of Ottawa</td>\n",
       "      <td>S$15,965</td>\n",
       "    </tr>\n",
       "    <tr>\n",
       "      <td>7</td>\n",
       "      <td>University of Waterloo</td>\n",
       "      <td>S$12,455</td>\n",
       "    </tr>\n",
       "    <tr>\n",
       "      <td>8</td>\n",
       "      <td>University of Victoria</td>\n",
       "      <td>S$11,365</td>\n",
       "    </tr>\n",
       "    <tr>\n",
       "      <td>9</td>\n",
       "      <td>Western University</td>\n",
       "      <td>S$16,274</td>\n",
       "    </tr>\n",
       "  </tbody>\n",
       "</table>\n",
       "</div>"
      ],
      "text/plain": [
       "                       University Room & Board\n",
       "0           University of Toronto     S$20,165\n",
       "1  University of British Columbia     S$12,360\n",
       "2               McGill University     S$19,083\n",
       "3             McMaster University     S$14,374\n",
       "4           University of Alberta      S$8,425\n",
       "5           University of Calgary     S$11,479\n",
       "6            University of Ottawa     S$15,965\n",
       "7          University of Waterloo     S$12,455\n",
       "8          University of Victoria     S$11,365\n",
       "9              Western University     S$16,274"
      ]
     },
     "execution_count": 8,
     "metadata": {},
     "output_type": "execute_result"
    }
   ],
   "source": [
    "import pandas as pd\n",
    "\n",
    "df = pd.read_clipboard() # https://www.valuechampion.sg/average-cost-university-canada\n",
    "df"
   ]
  },
  {
   "cell_type": "code",
   "execution_count": 12,
   "metadata": {},
   "outputs": [],
   "source": [
    "df['Room & Board'] = df['Room & Board'].apply(lambda a: a.split('S$')[1])\n",
    "df['cost'] = df['Room & Board'].apply(lambda a: a.split(','))\n",
    "df['cost'] = df['cost'].apply(lambda a: a[0]+a[1])"
   ]
  },
  {
   "cell_type": "code",
   "execution_count": 24,
   "metadata": {},
   "outputs": [
    {
     "data": {
      "text/plain": [
       "14194.5"
      ]
     },
     "execution_count": 24,
     "metadata": {},
     "output_type": "execute_result"
    }
   ],
   "source": [
    "df['cost'].astype('int').mean()"
   ]
  },
  {
   "cell_type": "markdown",
   "metadata": {},
   "source": [
    "With such high prices, the cost can be spent elsewhere. Food, for instance. Instead of eating ramen, students could afford selections that are slightly healthier and, maybe, go on an occasional restaurant night. This begs the question:\n",
    "\n",
    "\"Are there student accommodations that are equally or similarly accessible but yet wallet-friendly?\"\n",
    "\n",
    "***Goal: Distance from the university is a key factor, but it would also be great to know whether the neighborhood has wonderful amenities nearby. In this analysis, I will categorise and perform cluster analysis on each rental houses and help students simplify their accommodation search!***"
   ]
  }
 ],
 "metadata": {
  "kernelspec": {
   "display_name": "Python 3",
   "language": "python",
   "name": "python3"
  },
  "language_info": {
   "codemirror_mode": {
    "name": "ipython",
    "version": 3
   },
   "file_extension": ".py",
   "mimetype": "text/x-python",
   "name": "python",
   "nbconvert_exporter": "python",
   "pygments_lexer": "ipython3",
   "version": "3.7.4"
  }
 },
 "nbformat": 4,
 "nbformat_minor": 4
}
