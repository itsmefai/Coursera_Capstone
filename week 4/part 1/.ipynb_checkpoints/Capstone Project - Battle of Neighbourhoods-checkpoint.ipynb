{
 "cells": [
  {
   "cell_type": "markdown",
   "metadata": {},
   "source": [
    "# Where to stay in Canada?"
   ]
  },
  {
   "cell_type": "markdown",
   "metadata": {},
   "source": [
    "### Introduction"
   ]
  },
  {
   "cell_type": "markdown",
   "metadata": {},
   "source": [
    "A friend of mine, Janice, has recently been accepted to one of Canada's top universities and, like many other students who are not based in Canada, have to start looking for an apartment or accommodation for her to stay during her next 3 educational years. She would like a place to stay that best matches her long list of requirements. \n",
    "\n",
    "Like many other students who are on a budget, this is a common dilemma that prospective students face. On top of the high tuition fees, students have to take into account the hostel costs which often times are not particularly affordable. Residence/Dormitory offered by Universities are by far the best, accessibility-wise, as they are conveniently located on or near their campus but are also one of, if not, the most expensive options available. (Prices range from $3,000 - $7,500 CDN per school year!)\n",
    "\n",
    "This begs the question: **Are there student accommodations that are equally or similarly accessible but yet wallet-friendly?**\n",
    "\n",
    "In this analysis, we will attempt to answer this question and help students simplify their accommodation hunting!"
   ]
  },
  {
   "cell_type": "markdown",
   "metadata": {},
   "source": [
    "### Data Used"
   ]
  },
  {
   "cell_type": "markdown",
   "metadata": {},
   "source": [
    "The data that will be utilized in this analysis will be data of popular housing options within the vicinity of the universities in Canada. These data points can be retrieved using Foursquare API. Examples of such data points are: \n",
    "\n",
    "    1) Location data of Universities in Canada\n",
    "    2) Popular Housing (based on user rating) -  within the vicinity of the chosen university\n",
    "    3) Accommodations near the selected housing - cafes, restaurants, pubs, etc.\n",
    "    \n",
    "At the end of the analysis, the system should output several (data-driven) suggestions that best meet the student's requirements. "
   ]
  }
 ],
 "metadata": {
  "kernelspec": {
   "display_name": "Python 3",
   "language": "python",
   "name": "python3"
  },
  "language_info": {
   "codemirror_mode": {
    "name": "ipython",
    "version": 3
   },
   "file_extension": ".py",
   "mimetype": "text/x-python",
   "name": "python",
   "nbconvert_exporter": "python",
   "pygments_lexer": "ipython3",
   "version": "3.7.4"
  }
 },
 "nbformat": 4,
 "nbformat_minor": 4
}
