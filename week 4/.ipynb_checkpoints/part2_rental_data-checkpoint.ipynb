{
 "cells": [
  {
   "cell_type": "markdown",
   "metadata": {},
   "source": [
    "### 1. Importing Libraries"
   ]
  },
  {
   "cell_type": "code",
   "execution_count": 3,
   "metadata": {},
   "outputs": [],
   "source": [
    "import pandas as pd\n",
    "import numpy as np\n",
    "import seaborn as sns\n",
    "\n",
    "from geopy.geocoders import Nominatim \n",
    "import pgeocode\n",
    "\n",
    "from selenium import webdriver\n",
    "from selenium.webdriver.common.by import By\n",
    "from selenium.webdriver.support.ui import WebDriverWait\n",
    "from selenium.webdriver.support import expected_conditions as EC\n",
    "from selenium.common.exceptions import TimeoutException\n",
    "import time\n",
    "\n",
    "import requests\n",
    "import bs4 as bs"
   ]
  },
  {
   "cell_type": "markdown",
   "metadata": {},
   "source": [
    "### 2. Retrieve rental data using Selenium and BeautifulSoup \n",
    "\n",
    "References here: - https://bit.ly/2ZFM0kY - https://realpython.com/beautiful-soup-web-scraper-python/"
   ]
  },
  {
   "cell_type": "code",
   "execution_count": 14,
   "metadata": {},
   "outputs": [
    {
     "name": "stdout",
     "output_type": "stream",
     "text": [
      "Getting data for: University of Toronto.\n",
      "Getting data for: York University.\n",
      "Getting data for: Ryerson University.\n",
      "Getting data for: Humber College.\n",
      "Getting data for: Centennial College.\n",
      "Getting data for: George Brown College.\n",
      "Getting data for: OCAD University.\n",
      "Getting data for: Michener Institute for Applied Health Sciences.\n",
      "Getting data for: Canadian Memorial Chiropractic College.\n",
      "Getting data for: Tyndale College & Seminary.\n",
      "Getting data for: Regis College University of Toronto.\n",
      "Getting data for: Seneca College.\n",
      "Getting data for: Victoria University.\n",
      "Getting data for: Academy of Design Toronto.\n",
      "Getting data for: University of Trinity College.\n",
      "Getting data for: Sprott Shaw Language College.\n",
      "Getting data for: Upper Career College Business & Technology.\n",
      "Getting data for: International Language Academy of Canada.\n",
      "Getting data for: Upper Madison College.\n",
      "Getting data for: Institute for Christian Studies.\n",
      "Getting data for: University of St. Michael's College.\n",
      "Getting data for: Wycliffe College.\n"
     ]
    }
   ],
   "source": [
    "df = pd.read_excel('uni_toronto_final.xlsx')\n",
    "rental = {}\n",
    "\n",
    "# for purpose of testing, we are going to grab just the first page of the listing.\n",
    "for lat, long, uni in zip(df['Latitude'], df['Longitude'], df['University']):\n",
    "\n",
    "    url = f'https://www.zumper.com/apartments-for-rent/toronto-on?property-categories=apartment,house,room&sort=price&box={long},{lat},-79.2492457525948,43.79486799352122'\n",
    "\n",
    "    options = webdriver.ChromeOptions()\n",
    "    options = webdriver.ChromeOptions() \n",
    "    options.add_argument(\"start-maximized\")\n",
    "    options.add_argument('disable-infobars')\n",
    "    driver=webdriver.Chrome(options=options, executable_path=r'/Users/apple/Downloads/chromedriver')\n",
    "    driver.get(url)\n",
    "\n",
    "    print(f'Retrieving Rental for: {uni}...')\n",
    "\n",
    "    WebDriverWait(driver, 20).until(EC.visibility_of_element_located((By.XPATH, \"/html/body/div[1]/div/div/div[2]/div[1]/div/div[1]/div/div/div[1]/div[5]/button\")))\n",
    "\n",
    "    page_source = driver.page_source\n",
    "    \n",
    "    soup = bs.BeautifulSoup(page_source, 'html.parser')\n",
    "    result = soup.findAll('div', class_ = 'ListItemDesktopView_content__2zZTH')\n",
    "\n",
    "    for i in result:\n",
    "        # Each job_elem is a new BeautifulSoup object.\n",
    "        # You can use the same methods on it as you did before.\n",
    "\n",
    "        price = i.find('div', class_='ListItemDesktopView_price__3TSLy')\n",
    "        apartment_type = i.find('div', class_='ListItemDesktopView_bedBathText__2pdpd')\n",
    "        #address = i.find('div', class_='ListItemDesktopView_address__QRRqh')\n",
    "        header = i.find('a', class_='ListItemDesktopView_headerText__3W3Oe')\n",
    "        description = i.find('div', class_='ListItemDesktopView_overlayInfo__1LVha')\n",
    "\n",
    "        # Add University\n",
    "        if 'University' in rental.keys():\n",
    "            rental['University'].append(uni)\n",
    "        else:\n",
    "            rental['University'] = []\n",
    "            rental['University'].append(uni)\n",
    "        \n",
    "        # Add address\n",
    "        if 'Address' in rental.keys():\n",
    "            rental['Address'].append(header.text)\n",
    "        else:\n",
    "            rental['Address'] = []\n",
    "            rental['Address'].append(header.text)\n",
    "            \n",
    "        # Add Room type\n",
    "        if 'Type' in rental.keys():\n",
    "            rental['Type'].append(apartment_type.text)\n",
    "        else:\n",
    "            rental['Type'] = []\n",
    "            rental['Type'].append(apartment_type.text)\n",
    "        \n",
    "        # Add Price\n",
    "        if 'Price' in rental.keys():\n",
    "            rental['Price'].append(price.text)\n",
    "        else:\n",
    "            rental['Price'] = []\n",
    "            rental['Price'].append(price.text)\n",
    "            \n",
    "        # Add Description\n",
    "        if 'Description' in rental.keys():\n",
    "            rental['Description'].append(description.text)\n",
    "        else:\n",
    "            rental['Description'] = []\n",
    "            rental['Description'].append(description.text)\n",
    "\n",
    "    # close selenium window\n",
    "    print('Done..')\n",
    "    print()\n",
    "    driver.close()"
   ]
  },
  {
   "cell_type": "code",
   "execution_count": 56,
   "metadata": {},
   "outputs": [],
   "source": [
    "# Converting rental dictionary to a python dataframe and saving it to excel.\n",
    "temp = pd.DataFrame(rental)\n",
    "temp.to_excel('raw_rental_data.xlsx', index = None)"
   ]
  },
  {
   "cell_type": "markdown",
   "metadata": {},
   "source": [
    "### 3. Getting the coordinates from address using Geopy and pgeocode\n",
    "\n",
    "More here: https://pypi.org/project/geopy/, https://pypi.org/project/pgeocode/"
   ]
  },
  {
   "cell_type": "markdown",
   "metadata": {},
   "source": [
    "We will not able to get an accurate coordinate for some of the rental based on the address given but lucky for us, pgeocode will be able to extract the longitude and latitude coordinates from the Postal Code."
   ]
  },
  {
   "cell_type": "code",
   "execution_count": 12,
   "metadata": {},
   "outputs": [],
   "source": [
    "rental_data = pd.read_excel('raw_rental_data.xlsx')\n",
    "rental_data['latitude'] = 0\n",
    "rental_data['longitude'] = 0\n",
    "\n",
    "for index, rows in rental_data.iterrows():\n",
    "     \n",
    "    postal = rows['Address'].split(',')[-1] # get the last value\n",
    "    rental_data.loc[index, 'Postal Code'] = postal\n",
    "\n",
    "    try: # if the value is a postal code\n",
    "        nomi = pgeocode.Nominatim('CA') # specifying the country code for Canada\n",
    "        location = nomi.query_postal_code(postal) \n",
    "\n",
    "        lat = location.at['latitude']\n",
    "        long = location.at['longitude']\n",
    "        \n",
    "        rental_data.loc[index,'latitude'] = lat\n",
    "        rental_data.loc[index,'longitude'] = long\n",
    "        \n",
    "    except:\n",
    "        print('Coordinates not found...')"
   ]
  },
  {
   "cell_type": "markdown",
   "metadata": {},
   "source": [
    "Let's have a preview the data that we have"
   ]
  },
  {
   "cell_type": "code",
   "execution_count": 13,
   "metadata": {},
   "outputs": [
    {
     "name": "stdout",
     "output_type": "stream",
     "text": [
      "<class 'pandas.core.frame.DataFrame'>\n",
      "RangeIndex: 456 entries, 0 to 455\n",
      "Data columns (total 8 columns):\n",
      "University     456 non-null object\n",
      "Address        456 non-null object\n",
      "Type           456 non-null object\n",
      "Price          456 non-null object\n",
      "Description    456 non-null object\n",
      "latitude       380 non-null float64\n",
      "longitude      380 non-null float64\n",
      "Postal Code    456 non-null object\n",
      "dtypes: float64(2), object(6)\n",
      "memory usage: 28.6+ KB\n"
     ]
    }
   ],
   "source": [
    "rental_data.info()"
   ]
  },
  {
   "cell_type": "markdown",
   "metadata": {},
   "source": [
    "A preview of the data shows that a few of the rentals do not have the coordinates due to the address. In such cases, I will be dropping the rows for now but for future improvements, I will take care of such data."
   ]
  },
  {
   "cell_type": "code",
   "execution_count": 14,
   "metadata": {},
   "outputs": [
    {
     "name": "stdout",
     "output_type": "stream",
     "text": [
      "<class 'pandas.core.frame.DataFrame'>\n",
      "Int64Index: 380 entries, 0 to 455\n",
      "Data columns (total 8 columns):\n",
      "University     380 non-null object\n",
      "Address        380 non-null object\n",
      "Type           380 non-null object\n",
      "Price          380 non-null object\n",
      "Description    380 non-null object\n",
      "latitude       380 non-null float64\n",
      "longitude      380 non-null float64\n",
      "Postal Code    380 non-null object\n",
      "dtypes: float64(2), object(6)\n",
      "memory usage: 26.7+ KB\n"
     ]
    }
   ],
   "source": [
    "clean_rental_data = rental_data.dropna(subset=['latitude', 'longitude'])\n",
    "clean_rental_data.info()"
   ]
  },
  {
   "cell_type": "markdown",
   "metadata": {},
   "source": [
    "Now that we have the data cleaned and prepared for the next step, let's export the dataframe to excel."
   ]
  },
  {
   "cell_type": "code",
   "execution_count": 43,
   "metadata": {},
   "outputs": [],
   "source": [
    "# Reorganising the columns. Dropping the \"Description\" column as it provides no further help in our analysis at this point\n",
    "clean_rental_data = clean_rental_data[['University', 'Address', 'Postal Code', 'latitude', 'longitude','Type', 'Price']]\n",
    "\n",
    "clean_rental_data.to_excel('clean_rental_data.xlsx', index = None)"
   ]
  },
  {
   "cell_type": "markdown",
   "metadata": {},
   "source": [
    "Upon initial inspection of the data, some of the coordinates seem to be duplicated for locations that have a similar starting postal code. To avoid multiple points within a single location–which will be a problem for us to take a look at the pop up information in the map–we will be dropping the first instance of the duplicate location"
   ]
  },
  {
   "cell_type": "code",
   "execution_count": 44,
   "metadata": {},
   "outputs": [
    {
     "data": {
      "text/plain": [
       "University     35\n",
       "Address        35\n",
       "Postal Code    35\n",
       "latitude       35\n",
       "longitude      35\n",
       "Type           35\n",
       "Price          35\n",
       "dtype: int64"
      ]
     },
     "execution_count": 44,
     "metadata": {},
     "output_type": "execute_result"
    }
   ],
   "source": [
    "clean_rental_data.drop_duplicates(subset = ['latitude', 'longitude' ], keep = 'last' ).reset_index(drop = True).count()"
   ]
  },
  {
   "cell_type": "markdown",
   "metadata": {},
   "source": [
    "Wow! It would seem that there are a multiple duplicates in rental houses for the universities. Afraid that we may have dropped some of the universities from the dataset, let's include University as one of the subset."
   ]
  },
  {
   "cell_type": "code",
   "execution_count": 45,
   "metadata": {},
   "outputs": [
    {
     "data": {
      "text/plain": [
       "University     253\n",
       "Address        253\n",
       "Postal Code    253\n",
       "latitude       253\n",
       "longitude      253\n",
       "Type           253\n",
       "Price          253\n",
       "dtype: int64"
      ]
     },
     "execution_count": 45,
     "metadata": {},
     "output_type": "execute_result"
    }
   ],
   "source": [
    "clean_rental_data.drop_duplicates(subset = ['University', 'latitude', 'longitude'], keep = 'last' ).reset_index(drop = True).count()"
   ]
  },
  {
   "cell_type": "markdown",
   "metadata": {},
   "source": [
    "Much better! The total number of records is much lesser than what we have initially but it is a good start. Let's save the data and proceed to the next step which is to calculate the distance between the rental to the university."
   ]
  },
  {
   "cell_type": "code",
   "execution_count": 1,
   "metadata": {},
   "outputs": [
    {
     "ename": "NameError",
     "evalue": "name 'clean_rental_data' is not defined",
     "output_type": "error",
     "traceback": [
      "\u001b[0;31m---------------------------------------------------------------------------\u001b[0m",
      "\u001b[0;31mNameError\u001b[0m                                 Traceback (most recent call last)",
      "\u001b[0;32m<ipython-input-1-b4a784501f94>\u001b[0m in \u001b[0;36m<module>\u001b[0;34m\u001b[0m\n\u001b[0;32m----> 1\u001b[0;31m \u001b[0mto_export\u001b[0m \u001b[0;34m=\u001b[0m \u001b[0mclean_rental_data\u001b[0m\u001b[0;34m.\u001b[0m\u001b[0mdrop_duplicates\u001b[0m\u001b[0;34m(\u001b[0m\u001b[0msubset\u001b[0m \u001b[0;34m=\u001b[0m \u001b[0;34m[\u001b[0m\u001b[0;34m'University'\u001b[0m\u001b[0;34m,\u001b[0m \u001b[0;34m'latitude'\u001b[0m\u001b[0;34m,\u001b[0m \u001b[0;34m'longitude'\u001b[0m\u001b[0;34m]\u001b[0m\u001b[0;34m,\u001b[0m \u001b[0mkeep\u001b[0m \u001b[0;34m=\u001b[0m \u001b[0;34m'last'\u001b[0m \u001b[0;34m)\u001b[0m\u001b[0;34m.\u001b[0m\u001b[0mreset_index\u001b[0m\u001b[0;34m(\u001b[0m\u001b[0mdrop\u001b[0m \u001b[0;34m=\u001b[0m \u001b[0;32mTrue\u001b[0m\u001b[0;34m)\u001b[0m\u001b[0;34m\u001b[0m\u001b[0;34m\u001b[0m\u001b[0m\n\u001b[0m\u001b[1;32m      2\u001b[0m \u001b[0;34m\u001b[0m\u001b[0m\n\u001b[1;32m      3\u001b[0m \u001b[0mto_export\u001b[0m\u001b[0;34m\u001b[0m\u001b[0;34m\u001b[0m\u001b[0m\n",
      "\u001b[0;31mNameError\u001b[0m: name 'clean_rental_data' is not defined"
     ]
    }
   ],
   "source": [
    "to_export = clean_rental_data.drop_duplicates(subset = ['University', 'latitude', 'longitude'], keep = 'last' ).reset_index(drop = True)\n",
    "\n",
    "# adding Rental Names\n",
    "count = 1\n",
    "for index, rows in to_export.iterrows():\n",
    "    \n",
    "    to_export.loc[index, 'Rental Name'] = 'Rental #' + str(count)\n",
    "    count += 1\n",
    "\n",
    "to_export.to_excel('final_rental_data.xlsx', index = None)"
   ]
  }
 ],
 "metadata": {
  "kernelspec": {
   "display_name": "Python 3",
   "language": "python",
   "name": "python3"
  },
  "language_info": {
   "codemirror_mode": {
    "name": "ipython",
    "version": 3
   },
   "file_extension": ".py",
   "mimetype": "text/x-python",
   "name": "python",
   "nbconvert_exporter": "python",
   "pygments_lexer": "ipython3",
   "version": "3.7.4"
  }
 },
 "nbformat": 4,
 "nbformat_minor": 4
}
