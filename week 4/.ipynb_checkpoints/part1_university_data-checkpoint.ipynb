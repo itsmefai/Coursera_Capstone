{
 "cells": [
  {
   "cell_type": "markdown",
   "metadata": {},
   "source": [
    "### Step 1: Identify the universities in Toronto"
   ]
  },
  {
   "cell_type": "code",
   "execution_count": null,
   "metadata": {},
   "outputs": [],
   "source": [
    "import pandas as pd\n",
    "import numpy as np\n",
    "import folium\n",
    "from geopy.geocoders import Nominatim # convert an address into latitude and longitude values"
   ]
  },
  {
   "cell_type": "code",
   "execution_count": null,
   "metadata": {},
   "outputs": [],
   "source": [
    "# list of universities in Torronto retrieved from: https://www.unipage.net/en/universities?country=38&city_id=6167865\n",
    "dataset = pd.read_excel('uni_toronto.xlsx')\n",
    "\n",
    "# preview of dataset\n",
    "dataset"
   ]
  },
  {
   "cell_type": "markdown",
   "metadata": {},
   "source": [
    "#### 1.1 Using geopy library to get the latitude and longitude values of Universities in Toronto\n",
    "\n",
    "In order to define an instance of the geocoder, we need to define a user_agent. We will name our agent <em>ca_explorer</em>, as shown below."
   ]
  },
  {
   "cell_type": "code",
   "execution_count": null,
   "metadata": {},
   "outputs": [],
   "source": [
    "address = 'University of Toronto'\n",
    "\n",
    "geolocator = Nominatim(user_agent=\"ca_explorer\")\n",
    "location = geolocator.geocode(address)\n",
    "latitude = location.latitude\n",
    "longitude = location.longitude\n",
    "print('The geograpical coordinate of University of Toronto are {}, {}.'.format(latitude, longitude))"
   ]
  },
  {
   "cell_type": "markdown",
   "metadata": {},
   "source": [
    "Great! We are able to retrive the lattitude and longitude coordinate using the geopy's Nominatim function. Let's use a **for** loop to retrieve all the coordinates for the remaining universities and add them to the dataframe."
   ]
  },
  {
   "cell_type": "code",
   "execution_count": null,
   "metadata": {},
   "outputs": [],
   "source": [
    "for index, rows in dataset.iterrows():\n",
    "    address = rows['University']\n",
    "    geolocator = Nominatim(user_agent=\"ny_explorer\")\n",
    "    location = geolocator.geocode(address)\n",
    "    \n",
    "    try:\n",
    "        latitude = location.latitude\n",
    "        longitude = location.longitude\n",
    "        print(f\"{index}: {rows['Title']}: {latitude},{longitude}\")\n",
    "        dataset.loc[index, 'Latitude'] = latitude\n",
    "        dataset.loc[index, 'Longitude'] = longitude\n",
    "        \n",
    "    except:\n",
    "        latitude = np.nan\n",
    "        print(\"No location\")\n",
    "\n",
    "# saving what we have for now\n",
    "dataset.to_excel('uni_toronto_edited.xlsx', index = None)\n",
    "\n",
    "dataset"
   ]
  },
  {
   "cell_type": "markdown",
   "metadata": {},
   "source": [
    "Cool. We are able to get most of the coordinates for the universities. There are a few that do not have either the lat, long coordinates. That is still fine. We can manually add them in for now. First, let's preview the dataframe and see what we currently have."
   ]
  },
  {
   "cell_type": "markdown",
   "metadata": {},
   "source": [
    "#### 1.2 Handling missing coordinates"
   ]
  },
  {
   "cell_type": "code",
   "execution_count": null,
   "metadata": {},
   "outputs": [],
   "source": [
    "df = pd.read_excel('uni_toronto_edited.xlsx')\n",
    "\n",
    "# get the rows with nan values\n",
    "df[df['Longitude'].isna() == True]"
   ]
  },
  {
   "cell_type": "code",
   "execution_count": null,
   "metadata": {},
   "outputs": [],
   "source": [
    "# coordinates for Michener Institute for Applied Health Sciences: 43.6558896, -79.3910475\n",
    "df.loc[7, 'Latitude'] = 43.6558896\n",
    "df.loc[7, 'Longitude'] = -79.3910475\n",
    "\n",
    "# coordinates for Canadian Memorial Chiropractic College: 43.8039466,-79.3718667\n",
    "df.loc[8, 'Latitude'] = 43.8039466\n",
    "df.loc[8, 'Longitude'] = -79.3718667\n",
    "\n",
    "# coordinates for Regis College University of Toronto: 43.6639847,-79.3902391\n",
    "df.loc[10, 'Latitude'] = 43.6639847\n",
    "df.loc[10, 'Longitude'] = -79.3902391\n",
    "\n",
    "# coordinates for Academy of Design Toronto: 43.696708,-79.396104\n",
    "df.loc[13, 'Latitude'] = 43.696708\n",
    "df.loc[13, 'Longitude'] = -79.396104\n",
    "\n",
    "# coordinates for Sprott Shaw Language College: 43.7076913,-79.3949289\n",
    "df.loc[15, 'Latitude'] = 43.7076913\n",
    "df.loc[15, 'Longitude'] = -79.3949289\n",
    "\n",
    "\n",
    "# coordinates for Upper Career College Business & Technology: 43.7076738,-79.3949037\n",
    "df.loc[16, 'Latitude'] = 43.7076738\n",
    "df.loc[16, 'Longitude'] = -79.3949037"
   ]
  },
  {
   "cell_type": "code",
   "execution_count": null,
   "metadata": {},
   "outputs": [],
   "source": [
    "# Let's preview the dataset\n",
    "df"
   ]
  },
  {
   "cell_type": "markdown",
   "metadata": {},
   "source": [
    "Now that we have all the coordinates fileld up, let's visualise them to see if they are correct."
   ]
  },
  {
   "cell_type": "code",
   "execution_count": null,
   "metadata": {},
   "outputs": [],
   "source": [
    "# create map of Toronto using latitude and longitude values\n",
    "toronto_latitude = 43.6532\n",
    "toronto_longitude = -79.3832\n",
    "map_toronto = folium.Map(location=[latitude, longitude], zoom_start=10.5)\n",
    "\n",
    "# add markers to map\n",
    "for lat, lng, uni in zip(df['Latitude'], df['Longitude'], df['University']):\n",
    "    label = f'{uni}'\n",
    "    label = folium.Popup(label, parse_html=True)\n",
    "    folium.Marker(\n",
    "        [lat, lng],\n",
    "        radius=5,\n",
    "        popup=label,\n",
    "        color='blue',\n",
    "        fill=True,\n",
    "        fill_color='#3186cc',\n",
    "        fill_opacity=0.7,\n",
    "        parse_html=False).add_to(map_toronto)  \n",
    "    \n",
    "map_toronto"
   ]
  },
  {
   "cell_type": "markdown",
   "metadata": {},
   "source": [
    "If we were to zoom out a little bit, we can see several points that are not within Toronto. Let's fix that and we should have a complete dataset for the universities."
   ]
  },
  {
   "cell_type": "markdown",
   "metadata": {},
   "source": [
    "#### 1.3 Handling incorrect coordinates"
   ]
  },
  {
   "cell_type": "markdown",
   "metadata": {},
   "source": [
    "Incorrect points \n",
    "\n",
    "    - victoria university\n",
    "    - george brown college\n",
    "    - institute for christian studies\n",
    "    - internaltional langauage academy of canada\n",
    "    - upper madison college"
   ]
  },
  {
   "cell_type": "code",
   "execution_count": null,
   "metadata": {},
   "outputs": [],
   "source": [
    "# coordinates for victoria university: 43.6585955,-79.4060162\n",
    "df.loc[12, 'Latitude'] = 43.6585955\n",
    "df.loc[12, 'Longitude'] = -79.4060162\n",
    "\n",
    "# coordinates for George Brown College: 43.6742401,-79.4199025\n",
    "df.loc[5, 'Latitude'] = 43.6742401\n",
    "df.loc[5, 'Longitude'] = -79.4199025\n",
    "\n",
    "# coordinates for institute for christian studies: 43.6613561,-79.3970904\n",
    "df.loc[19, 'Latitude'] = 43.6613561\n",
    "df.loc[19, 'Longitude'] = -79.3970904\n",
    "\n",
    "# coordinates for internaltional langauage academy of canada: 43.6740717,-79.3887625\n",
    "df.loc[17, 'Latitude'] = 43.6740717\n",
    "df.loc[17, 'Longitude'] = -79.3887625\n",
    "\n",
    "# coordinates for upper madison college: 43.7066472,-79.3999302\n",
    "df.loc[18, 'Latitude'] = 43.7066472\n",
    "df.loc[18, 'Longitude'] = -79.3999302"
   ]
  },
  {
   "cell_type": "code",
   "execution_count": null,
   "metadata": {},
   "outputs": [],
   "source": [
    "# Let's preview the data again and see if the locations are correct\n",
    "\n",
    "toronto_latitude = 43.6532\n",
    "toronto_longitude = -79.3832\n",
    "map_toronto = folium.Map(location=[latitude, longitude], zoom_start=10.5)\n",
    "\n",
    "# add markers to map\n",
    "for lat, lng, uni in zip(df['Latitude'], df['Longitude'], df['University']):\n",
    "    label = f'{uni}'\n",
    "    label = folium.Popup(label, parse_html=True)\n",
    "    folium.Marker(\n",
    "        [lat, lng],\n",
    "        radius=5,\n",
    "        popup=label,\n",
    "        color='blue',\n",
    "        fill=True,\n",
    "        fill_color='#3186cc',\n",
    "        fill_opacity=0.7,\n",
    "        parse_html=False).add_to(map_toronto)  \n",
    "    \n",
    "map_toronto"
   ]
  },
  {
   "cell_type": "markdown",
   "metadata": {},
   "source": [
    "Great! We manage to get the coordinates for universities in Toronto. Its a bit of work to get the dataset but it will be crucial for our analysis."
   ]
  },
  {
   "cell_type": "markdown",
   "metadata": {},
   "source": [
    "#### 1.4 Saving final output"
   ]
  },
  {
   "cell_type": "code",
   "execution_count": null,
   "metadata": {},
   "outputs": [],
   "source": [
    "# saving the data to excel\n",
    "df.to_excel('uni_toronto_final.xlsx', index = None)"
   ]
  }
 ],
 "metadata": {
  "kernelspec": {
   "display_name": "Python 3",
   "language": "python",
   "name": "python3"
  },
  "language_info": {
   "codemirror_mode": {
    "name": "ipython",
    "version": 3
   },
   "file_extension": ".py",
   "mimetype": "text/x-python",
   "name": "python",
   "nbconvert_exporter": "python",
   "pygments_lexer": "ipython3",
   "version": "3.7.4"
  }
 },
 "nbformat": 4,
 "nbformat_minor": 4
}
